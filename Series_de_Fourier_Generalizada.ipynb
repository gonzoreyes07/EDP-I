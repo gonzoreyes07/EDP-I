{
  "nbformat": 4,
  "nbformat_minor": 0,
  "metadata": {
    "colab": {
      "provenance": [],
      "authorship_tag": "ABX9TyMu6WaHqAN8de5jMgKXG/9x",
      "include_colab_link": true
    },
    "kernelspec": {
      "name": "python3",
      "display_name": "Python 3"
    },
    "language_info": {
      "name": "python"
    }
  },
  "cells": [
    {
      "cell_type": "markdown",
      "metadata": {
        "id": "view-in-github",
        "colab_type": "text"
      },
      "source": [
        "<a href=\"https://colab.research.google.com/github/gonzoreyes07/EDP-I/blob/main/Series_de_Fourier_Generalizada.ipynb\" target=\"_parent\"><img src=\"https://colab.research.google.com/assets/colab-badge.svg\" alt=\"Open In Colab\"/></a>"
      ]
    },
    {
      "cell_type": "code",
      "execution_count": 3,
      "metadata": {
        "colab": {
          "base_uri": "https://localhost:8080/"
        },
        "id": "XIRQPvkKN9zt",
        "outputId": "83c094b4-7c33-42b0-ad40-83b8aeb8f80e"
      },
      "outputs": [
        {
          "output_type": "stream",
          "name": "stdout",
          "text": [
            "General solution: [(-2*Derivative(f(x), x) - Derivative(f(x), (x, 2)))/lambda]\n",
            "Eigenvalues: pi**2*n**2 + 1\n",
            "Eigenfunction for n: exp(-x)*sin(pi*n*x)\n",
            "Norm squared of f_n: Piecewise((1/2 - sin(2*pi*n)/(4*pi*n), ((n > -oo) | (n > 0)) & ((n > -oo) | (n < oo)) & ((n > 0) | (n < 0)) & ((n < 0) | (n < oo))), (0, n >= 0))\n",
            "Fourier coefficient c_n: 2*(-E*pi**4*n**4*sin(pi*n) - 4*E*pi**3*n**3*cos(pi*n) + 6*E*pi**2*n**2*sin(pi*n) + 4*E*pi*n*cos(pi*n) - 8*pi*n - E*sin(pi*n))/(pi**6*n**6 + 3*pi**4*n**4 + 3*pi**2*n**2 + 1)\n",
            "Approximate Fourier series (n=1 to 3): 2*(-4*E*pi - 8*pi + 4*E*pi**3)*exp(-x)*sin(pi*x)/(1 + 3*pi**2 + 3*pi**4 + pi**6) + 2*(-32*E*pi**3 - 16*pi + 8*E*pi)*exp(-x)*sin(2*pi*x)/(1 + 12*pi**2 + 48*pi**4 + 64*pi**6) + 2*(-12*E*pi - 24*pi + 108*E*pi**3)*exp(-x)*sin(3*pi*x)/(1 + 27*pi**2 + 243*pi**4 + 729*pi**6)\n",
            "Coefficient c_1: 2*(-4*E*pi - 8*pi + 4*E*pi**3)/(1 + 3*pi**2 + 3*pi**4 + pi**6)\n",
            "Coefficient c_2: 2*(-32*E*pi**3 - 16*pi + 8*E*pi)/(1 + 12*pi**2 + 48*pi**4 + 64*pi**6)\n",
            "Coefficient c_3: 2*(-12*E*pi - 24*pi + 108*E*pi**3)/(1 + 27*pi**2 + 243*pi**4 + 729*pi**6)\n"
          ]
        }
      ],
      "source": [
        "import numpy as np\n",
        "import sympy as sp\n",
        "\n",
        "\n",
        "# Definimos la función y la variable lambda\n",
        "f = Function('f')(x)\n",
        "lambda_ = symbols('lambda')\n",
        "\n",
        "# Tenemos la siguiente ec. diferencial: f'' + 2f' + lambda*f = 0\n",
        "ec = Eq(diff(f, x, 2) + 2*diff(f, x) + lambda_*f, 0)\n",
        "\n",
        "# Resolvemos la ec. diferencial\n",
        "solucion_gen = solve(ec, f)\n",
        "print(\"Solución general:\", solucion_gen)\n",
        "\n",
        "# Encontramos los eigenvalores\n",
        "# Para lambda > 1\n",
        "omega = symbols('omega', positive=True)\n",
        "# Solución general para raices complejas: f(x) = exp(-x) * (C1*cos(omega*x) + C2*sin(omega*x))\n",
        "C1, C2 = symbols('C1 C2')\n",
        "f_x = exp(-x) * (C1 * cos(omega*x) + C2 * sin(omega*x))\n",
        "\n",
        "# Aplicamos la condición inicial: f(0) = 0\n",
        "eq1 = f_x.subs(x, 0)  # C1\n",
        "sol_C1 = solve(eq1, C1)\n",
        "f_x = f_x.subs(C1, sol_C1[0])  # C2 * exp(-x) * sin(omega*x)\n",
        "\n",
        "# Aplicando la condición de frontera: f(1) = 0\n",
        "eq2 = f_x.subs(x, 1)  # C2 * exp(-1) * sin(omega)\n",
        "# Queremos obtener sin(omega) = 0\n",
        "omega_n = n * pi\n",
        "# Eigenvalores para: omega = sqrt(lambda - 1) => lambda = 1 + omega^2\n",
        "lambda_n = 1 + (n * pi)**2\n",
        "print(\"Eigenvalores:\", lambda_n)\n",
        "\n",
        "# Eigenfunciones: f_n(x) = exp(-x) * sin(n*pi*x)\n",
        "f_n = exp(-x) * sin(n * pi * x)\n",
        "print(\"Función f_n:\", f_n)\n",
        "\n",
        "# Calculamos la norma para la ortogonalidad con peso e^(2x)\n",
        "norma = integrate((exp(-x) * sin(n * pi * x))**2 * exp(2*x), (x, 0, 1))\n",
        "norma = simplify(norma)\n",
        "print(\"Norma cuadrada de f_n:\", norma)\n",
        "\n",
        "# Definimos la función para expandir: g(x) = x * (1 - x)\n",
        "g = x * (1 - x)\n",
        "\n",
        "# Calculamos los coeficientes de Fourier: c_n = 2 * integral(g(x) * e^x * sin(n*pi*x), 0, 1)\n",
        "c_n = 2 * integrate(g * exp(x) * sin(n * pi * x), (x, 0, 1))\n",
        "c_n = simplify(c_n)\n",
        "print(\"Coeficiente de Fourier c_n:\", c_n)\n",
        "\n",
        "# Fourier series: sum c_n * f_n(x)\n",
        "# Let's compute the first few terms (n=1 to 3)\n",
        "fourier_series = sum(c_n.subs(n, i) * exp(-x) * sin(i * pi * x) for i in range(1, 4))\n",
        "print(\"Approximate Fourier series (n=1 to 3):\", fourier_series)\n",
        "\n",
        "# Optionally, compute c_n for specific n\n",
        "for i in range(1, 4):\n",
        "    coeff = c_n.subs(n, i)\n",
        "    print(f\"Coefficient c_{i}:\", coeff)"
      ]
    }
  ]
}