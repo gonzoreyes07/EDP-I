{
  "nbformat": 4,
  "nbformat_minor": 0,
  "metadata": {
    "colab": {
      "provenance": [],
      "authorship_tag": "ABX9TyPHF3BNC4pX9f4gw+RVAe4H",
      "include_colab_link": true
    },
    "kernelspec": {
      "name": "python3",
      "display_name": "Python 3"
    },
    "language_info": {
      "name": "python"
    }
  },
  "cells": [
    {
      "cell_type": "markdown",
      "metadata": {
        "id": "view-in-github",
        "colab_type": "text"
      },
      "source": [
        "<a href=\"https://colab.research.google.com/github/gonzoreyes07/EDP-I/blob/main/Canonicas.ipynb\" target=\"_parent\"><img src=\"https://colab.research.google.com/assets/colab-badge.svg\" alt=\"Open In Colab\"/></a>"
      ]
    },
    {
      "cell_type": "code",
      "execution_count": 1,
      "metadata": {
        "id": "J-ASzHnMaOqS"
      },
      "outputs": [],
      "source": [
        "import sympy as sp"
      ]
    },
    {
      "cell_type": "code",
      "source": [
        "def canonicas(A, B, C):\n",
        "    # Definimos nuestras variables simbolicas\n",
        "    x, y, xi, eta = sp.symbols('x y xi eta')\n",
        "    u = sp.Function('u')(x, y)\n",
        "\n",
        "    # Calculamos el discriminante\n",
        "    discriminante = B**2 - A*C\n",
        "\n",
        "    # Clasificamos las EDPs\n",
        "    if discriminante > 0:\n",
        "        tipo = \"Hiperbólica\"\n",
        "    elif discriminante == 0:\n",
        "        tipo = \"Parabólica\"\n",
        "    else:\n",
        "        tipo = \"Eliptica\"\n",
        "\n",
        "    print(f\"El discriminante es: {discriminante}\")\n",
        "    print(f\"EDP de tipo: {tipo}\")\n",
        "\n",
        "    # Caso hiperbólica\n",
        "    if tipo == \"Hiperbólica\":\n",
        "        print(\"\\nCalculando forma canónica de tipo Hiperbólica...\")\n",
        "\n",
        "        # Ecuaciones características: dy/dx = (B ± √(B² - AC))/A\n",
        "        delta = sp.sqrt(B**2 - A*C)\n",
        "        m1 = (B + delta)/A\n",
        "        m2 = (B - delta)/A\n",
        "\n",
        "        # Primera ecuación: dy/dx = m1\n",
        "        ec1 = sp.integrate(1/m1, x) - y  # ξ = constante\n",
        "        # Segunda ecuación: dy/dx = m2\n",
        "        ec2 = sp.integrate(1/m2, x) - y  # η = constante\n",
        "\n",
        "        print(f\"m1 = {m1}, m2 = {m2}\")\n",
        "        print(f\"Ec. característica 1 (ξ = constante): y - {sp.integrate(1/m1, x)} = 0\")\n",
        "        print(f\"Ec. característica 2 (η = constante): y - {sp.integrate(1/m2, x)} = 0\")\n",
        "\n",
        "        # Definimos las nuevas coordenadas\n",
        "        xi = y - sp.integrate(1/m1, x)\n",
        "        eta = y - sp.integrate(1/m2, x)\n",
        "\n",
        "        # Para hiperbólicas, su forma canónica es u_ξξ - u_ηη = 0 or u_ξη = 0\n",
        "        # Usaremos u_ξη = 0\n",
        "        forma_canonica = \"u_ξη = 0\"\n",
        "\n",
        "        print(f\"\\nTransformación a variables canónicas:\")\n",
        "        print(f\"ξ = {xi}\")\n",
        "        print(f\"η = {eta}\")\n",
        "        print(f\"Forma canónica: {forma_canonica}\")\n",
        "\n",
        "        return {\n",
        "            'Ec. de tipo': tipo,\n",
        "            'Discriminante': discriminante,\n",
        "            'Ecuaciones características': (ec1, ec2),\n",
        "            'Variables': (xi, eta),\n",
        "            'Forma canónica': forma_canonica\n",
        "        }\n",
        "    else:\n",
        "        print(f\"No se puede transformar ya que la EDP es de tipo: {tipo}\")\n",
        "        return {\n",
        "            'Tipo': tipo,\n",
        "            'Discriminante': discriminante\n",
        "        }\n"
      ],
      "metadata": {
        "id": "j3pL1O3uBhe6"
      },
      "execution_count": 8,
      "outputs": []
    },
    {
      "cell_type": "code",
      "source": [
        "# Ejemplo:\n",
        "def main():\n",
        "    # EDP: u_xx + 2u_xy - 3u_yy = 0\n",
        "    A, B, C = 1, 1, -3  # Coeficientes de u_xx, 2u_xy, u_yy\n",
        "\n",
        "    print(\"Analizando la EDP: u_xx + 2u_xy - 3u_yy = 0\")\n",
        "    resultado = canonicas(A, B, C)\n",
        "\n",
        "if __name__ == \"__main__\":\n",
        "    main()"
      ],
      "metadata": {
        "colab": {
          "base_uri": "https://localhost:8080/"
        },
        "id": "zqlZUz9-BBYq",
        "outputId": "02b60924-0357-47c9-8e3a-8fa350835a9a"
      },
      "execution_count": 9,
      "outputs": [
        {
          "output_type": "stream",
          "name": "stdout",
          "text": [
            "Analizando la EDP: u_xx + 2u_xy - 3u_yy = 0\n",
            "El discriminante es: 4\n",
            "EDP de tipo: Hiperbólica\n",
            "\n",
            "Calculando forma canónica de tipo Hiperbólica...\n",
            "m1 = 3, m2 = -1\n",
            "Ec. característica 1 (ξ = constante): y - x/3 = 0\n",
            "Ec. característica 2 (η = constante): y - -x = 0\n",
            "\n",
            "Transformación a variables canónicas:\n",
            "ξ = -x/3 + y\n",
            "η = x + y\n",
            "Forma canónica: u_ξη = 0\n"
          ]
        }
      ]
    }
  ]
}